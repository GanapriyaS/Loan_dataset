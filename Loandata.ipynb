{
 "cells": [
  {
   "cell_type": "code",
   "execution_count": 74,
   "id": "19f8216e",
   "metadata": {},
   "outputs": [],
   "source": [
    "import pandas as pd\n",
    "import numpy as np\n",
    "df=pd.read_csv('loan_data.csv')"
   ]
  },
  {
   "cell_type": "code",
   "execution_count": 75,
   "id": "d065745b",
   "metadata": {},
   "outputs": [
    {
     "data": {
      "text/html": [
       "<div>\n",
       "<style scoped>\n",
       "    .dataframe tbody tr th:only-of-type {\n",
       "        vertical-align: middle;\n",
       "    }\n",
       "\n",
       "    .dataframe tbody tr th {\n",
       "        vertical-align: top;\n",
       "    }\n",
       "\n",
       "    .dataframe thead th {\n",
       "        text-align: right;\n",
       "    }\n",
       "</style>\n",
       "<table border=\"1\" class=\"dataframe\">\n",
       "  <thead>\n",
       "    <tr style=\"text-align: right;\">\n",
       "      <th></th>\n",
       "      <th>default</th>\n",
       "      <th>amount</th>\n",
       "      <th>interest</th>\n",
       "      <th>grade</th>\n",
       "      <th>years</th>\n",
       "      <th>ownership</th>\n",
       "      <th>income</th>\n",
       "      <th>age</th>\n",
       "    </tr>\n",
       "  </thead>\n",
       "  <tbody>\n",
       "    <tr>\n",
       "      <th>0</th>\n",
       "      <td>0</td>\n",
       "      <td>5000</td>\n",
       "      <td>10.65</td>\n",
       "      <td>B</td>\n",
       "      <td>10.0</td>\n",
       "      <td>RENT</td>\n",
       "      <td>24000.0</td>\n",
       "      <td>33</td>\n",
       "    </tr>\n",
       "    <tr>\n",
       "      <th>1</th>\n",
       "      <td>0</td>\n",
       "      <td>2400</td>\n",
       "      <td>NaN</td>\n",
       "      <td>C</td>\n",
       "      <td>25.0</td>\n",
       "      <td>RENT</td>\n",
       "      <td>12252.0</td>\n",
       "      <td>31</td>\n",
       "    </tr>\n",
       "    <tr>\n",
       "      <th>2</th>\n",
       "      <td>0</td>\n",
       "      <td>10000</td>\n",
       "      <td>13.49</td>\n",
       "      <td>C</td>\n",
       "      <td>13.0</td>\n",
       "      <td>RENT</td>\n",
       "      <td>49200.0</td>\n",
       "      <td>24</td>\n",
       "    </tr>\n",
       "    <tr>\n",
       "      <th>3</th>\n",
       "      <td>0</td>\n",
       "      <td>5000</td>\n",
       "      <td>NaN</td>\n",
       "      <td>A</td>\n",
       "      <td>3.0</td>\n",
       "      <td>RENT</td>\n",
       "      <td>36000.0</td>\n",
       "      <td>39</td>\n",
       "    </tr>\n",
       "    <tr>\n",
       "      <th>4</th>\n",
       "      <td>0</td>\n",
       "      <td>3000</td>\n",
       "      <td>NaN</td>\n",
       "      <td>E</td>\n",
       "      <td>9.0</td>\n",
       "      <td>RENT</td>\n",
       "      <td>48000.0</td>\n",
       "      <td>24</td>\n",
       "    </tr>\n",
       "  </tbody>\n",
       "</table>\n",
       "</div>"
      ],
      "text/plain": [
       "   default  amount  interest grade  years ownership   income  age\n",
       "0        0    5000     10.65     B   10.0      RENT  24000.0   33\n",
       "1        0    2400       NaN     C   25.0      RENT  12252.0   31\n",
       "2        0   10000     13.49     C   13.0      RENT  49200.0   24\n",
       "3        0    5000       NaN     A    3.0      RENT  36000.0   39\n",
       "4        0    3000       NaN     E    9.0      RENT  48000.0   24"
      ]
     },
     "execution_count": 75,
     "metadata": {},
     "output_type": "execute_result"
    }
   ],
   "source": [
    "df.head()\n"
   ]
  },
  {
   "cell_type": "code",
   "execution_count": 76,
   "id": "7d9c9e7e",
   "metadata": {},
   "outputs": [
    {
     "name": "stdout",
     "output_type": "stream",
     "text": [
      "<class 'pandas.core.frame.DataFrame'>\n",
      "RangeIndex: 29092 entries, 0 to 29091\n",
      "Data columns (total 8 columns):\n",
      " #   Column     Non-Null Count  Dtype  \n",
      "---  ------     --------------  -----  \n",
      " 0   default    29092 non-null  int64  \n",
      " 1   amount     29092 non-null  int64  \n",
      " 2   interest   26316 non-null  float64\n",
      " 3   grade      29092 non-null  object \n",
      " 4   years      28283 non-null  float64\n",
      " 5   ownership  29092 non-null  object \n",
      " 6   income     29092 non-null  float64\n",
      " 7   age        29092 non-null  int64  \n",
      "dtypes: float64(3), int64(3), object(2)\n",
      "memory usage: 1.8+ MB\n"
     ]
    }
   ],
   "source": [
    "df.info()"
   ]
  },
  {
   "cell_type": "code",
   "execution_count": 77,
   "id": "77871735",
   "metadata": {},
   "outputs": [
    {
     "data": {
      "text/html": [
       "<div>\n",
       "<style scoped>\n",
       "    .dataframe tbody tr th:only-of-type {\n",
       "        vertical-align: middle;\n",
       "    }\n",
       "\n",
       "    .dataframe tbody tr th {\n",
       "        vertical-align: top;\n",
       "    }\n",
       "\n",
       "    .dataframe thead th {\n",
       "        text-align: right;\n",
       "    }\n",
       "</style>\n",
       "<table border=\"1\" class=\"dataframe\">\n",
       "  <thead>\n",
       "    <tr style=\"text-align: right;\">\n",
       "      <th></th>\n",
       "      <th>default</th>\n",
       "      <th>amount</th>\n",
       "      <th>interest</th>\n",
       "      <th>years</th>\n",
       "      <th>income</th>\n",
       "      <th>age</th>\n",
       "    </tr>\n",
       "  </thead>\n",
       "  <tbody>\n",
       "    <tr>\n",
       "      <th>count</th>\n",
       "      <td>29092.000000</td>\n",
       "      <td>29092.000000</td>\n",
       "      <td>26316.000000</td>\n",
       "      <td>28283.000000</td>\n",
       "      <td>2.909200e+04</td>\n",
       "      <td>29092.000000</td>\n",
       "    </tr>\n",
       "    <tr>\n",
       "      <th>mean</th>\n",
       "      <td>0.110924</td>\n",
       "      <td>9593.505947</td>\n",
       "      <td>11.004567</td>\n",
       "      <td>6.145282</td>\n",
       "      <td>6.716883e+04</td>\n",
       "      <td>27.702117</td>\n",
       "    </tr>\n",
       "    <tr>\n",
       "      <th>std</th>\n",
       "      <td>0.314043</td>\n",
       "      <td>6323.416157</td>\n",
       "      <td>3.239012</td>\n",
       "      <td>6.677632</td>\n",
       "      <td>6.360652e+04</td>\n",
       "      <td>6.231927</td>\n",
       "    </tr>\n",
       "    <tr>\n",
       "      <th>min</th>\n",
       "      <td>0.000000</td>\n",
       "      <td>500.000000</td>\n",
       "      <td>5.420000</td>\n",
       "      <td>0.000000</td>\n",
       "      <td>4.000000e+03</td>\n",
       "      <td>20.000000</td>\n",
       "    </tr>\n",
       "    <tr>\n",
       "      <th>25%</th>\n",
       "      <td>0.000000</td>\n",
       "      <td>5000.000000</td>\n",
       "      <td>7.900000</td>\n",
       "      <td>2.000000</td>\n",
       "      <td>4.000000e+04</td>\n",
       "      <td>23.000000</td>\n",
       "    </tr>\n",
       "    <tr>\n",
       "      <th>50%</th>\n",
       "      <td>0.000000</td>\n",
       "      <td>8000.000000</td>\n",
       "      <td>10.990000</td>\n",
       "      <td>4.000000</td>\n",
       "      <td>5.642400e+04</td>\n",
       "      <td>26.000000</td>\n",
       "    </tr>\n",
       "    <tr>\n",
       "      <th>75%</th>\n",
       "      <td>0.000000</td>\n",
       "      <td>12250.000000</td>\n",
       "      <td>13.470000</td>\n",
       "      <td>8.000000</td>\n",
       "      <td>8.000000e+04</td>\n",
       "      <td>30.000000</td>\n",
       "    </tr>\n",
       "    <tr>\n",
       "      <th>max</th>\n",
       "      <td>1.000000</td>\n",
       "      <td>35000.000000</td>\n",
       "      <td>23.220000</td>\n",
       "      <td>62.000000</td>\n",
       "      <td>6.000000e+06</td>\n",
       "      <td>144.000000</td>\n",
       "    </tr>\n",
       "  </tbody>\n",
       "</table>\n",
       "</div>"
      ],
      "text/plain": [
       "            default        amount      interest         years        income  \\\n",
       "count  29092.000000  29092.000000  26316.000000  28283.000000  2.909200e+04   \n",
       "mean       0.110924   9593.505947     11.004567      6.145282  6.716883e+04   \n",
       "std        0.314043   6323.416157      3.239012      6.677632  6.360652e+04   \n",
       "min        0.000000    500.000000      5.420000      0.000000  4.000000e+03   \n",
       "25%        0.000000   5000.000000      7.900000      2.000000  4.000000e+04   \n",
       "50%        0.000000   8000.000000     10.990000      4.000000  5.642400e+04   \n",
       "75%        0.000000  12250.000000     13.470000      8.000000  8.000000e+04   \n",
       "max        1.000000  35000.000000     23.220000     62.000000  6.000000e+06   \n",
       "\n",
       "                age  \n",
       "count  29092.000000  \n",
       "mean      27.702117  \n",
       "std        6.231927  \n",
       "min       20.000000  \n",
       "25%       23.000000  \n",
       "50%       26.000000  \n",
       "75%       30.000000  \n",
       "max      144.000000  "
      ]
     },
     "execution_count": 77,
     "metadata": {},
     "output_type": "execute_result"
    }
   ],
   "source": [
    "df.describe()"
   ]
  },
  {
   "cell_type": "code",
   "execution_count": 78,
   "id": "1a3fc9c6",
   "metadata": {},
   "outputs": [
    {
     "data": {
      "text/plain": [
       "Index(['default', 'amount', 'interest', 'grade', 'years', 'ownership',\n",
       "       'income', 'age'],\n",
       "      dtype='object')"
      ]
     },
     "execution_count": 78,
     "metadata": {},
     "output_type": "execute_result"
    }
   ],
   "source": [
    "df.columns"
   ]
  },
  {
   "cell_type": "markdown",
   "id": "9192b807",
   "metadata": {},
   "source": [
    "# Proportion of the customers have defaulted"
   ]
  },
  {
   "cell_type": "code",
   "execution_count": 90,
   "id": "c6e5c6db",
   "metadata": {},
   "outputs": [
    {
     "data": {
      "text/plain": [
       "(11.092396535129932, 3227)"
      ]
     },
     "execution_count": 90,
     "metadata": {},
     "output_type": "execute_result"
    }
   ],
   "source": [
    "\n",
    "default=(df[df.default==1][\"default\"].values.size /(df[\"default\"].values.size))*100\n",
    "default,df[df.default==1][\"default\"].values.size"
   ]
  },
  {
   "cell_type": "markdown",
   "id": "15f23299",
   "metadata": {},
   "source": [
    "# No of customers having amount > 25,000 and RENT as ownership and have defaulted (default=1) "
   ]
  },
  {
   "cell_type": "code",
   "execution_count": 80,
   "id": "88de0ed9",
   "metadata": {},
   "outputs": [
    {
     "data": {
      "text/plain": [
       "104"
      ]
     },
     "execution_count": 80,
     "metadata": {},
     "output_type": "execute_result"
    }
   ],
   "source": [
    "amount=df.loc[(df['amount']>25000) & (df['ownership']==\"RENT\") & (df['default']==1)].values.size\n",
    "amount"
   ]
  },
  {
   "cell_type": "markdown",
   "id": "ccb38f37",
   "metadata": {},
   "source": [
    "#  Second youngest age in the dataset"
   ]
  },
  {
   "cell_type": "code",
   "execution_count": 89,
   "id": "b989fc5f",
   "metadata": {},
   "outputs": [
    {
     "name": "stdout",
     "output_type": "stream",
     "text": [
      "21\n"
     ]
    }
   ],
   "source": [
    "second_age=sorted(df['age'].unique())\n",
    "print(second_age[1])"
   ]
  },
  {
   "cell_type": "markdown",
   "id": "64cfb903",
   "metadata": {},
   "source": [
    "# No of Customers having grade as D"
   ]
  },
  {
   "cell_type": "code",
   "execution_count": 82,
   "id": "ece72945",
   "metadata": {},
   "outputs": [
    {
     "data": {
      "text/plain": [
       "25848"
      ]
     },
     "execution_count": 82,
     "metadata": {},
     "output_type": "execute_result"
    }
   ],
   "source": [
    "grade_D=df[df.grade==\"D\"].values.size\n",
    "grade_D"
   ]
  },
  {
   "cell_type": "markdown",
   "id": "de4c9ee5",
   "metadata": {},
   "source": [
    "# Datapoints in \"interest\" column are missing"
   ]
  },
  {
   "cell_type": "code",
   "execution_count": 83,
   "id": "bca8ef89",
   "metadata": {},
   "outputs": [
    {
     "data": {
      "text/plain": [
       "2776"
      ]
     },
     "execution_count": 83,
     "metadata": {},
     "output_type": "execute_result"
    }
   ],
   "source": [
    "null_interest=df[\"interest\"].isnull().sum()\n",
    "null_interest"
   ]
  },
  {
   "cell_type": "markdown",
   "id": "847b5de1",
   "metadata": {},
   "source": [
    "# No of Customers having grade A, have income greater than 24000 and have OWN house and have not defaulted (default=0)"
   ]
  },
  {
   "cell_type": "code",
   "execution_count": 84,
   "id": "84ac8fe0",
   "metadata": {},
   "outputs": [
    {
     "data": {
      "text/plain": [
       "64"
      ]
     },
     "execution_count": 84,
     "metadata": {},
     "output_type": "execute_result"
    }
   ],
   "source": [
    "grade_A=df.loc[(df.grade==\"A\") & (df['amount']>24000) & (df['ownership']==\"OWN\") & (df['default']==0)].values.size\n",
    "grade_A"
   ]
  },
  {
   "cell_type": "markdown",
   "id": "bb0650e8",
   "metadata": {},
   "source": [
    "# Average income of people in the age group 30-40"
   ]
  },
  {
   "cell_type": "code",
   "execution_count": 85,
   "id": "5323cb83",
   "metadata": {},
   "outputs": [
    {
     "data": {
      "text/plain": [
       "74623.73681081884"
      ]
     },
     "execution_count": 85,
     "metadata": {},
     "output_type": "execute_result"
    }
   ],
   "source": [
    "avg=np.average(df.loc[(df.age>=30) & (df.age<=40)][\"income\"])\n",
    "avg"
   ]
  }
 ],
 "metadata": {
  "kernelspec": {
   "display_name": "Python 3",
   "language": "python",
   "name": "python3"
  },
  "language_info": {
   "codemirror_mode": {
    "name": "ipython",
    "version": 3
   },
   "file_extension": ".py",
   "mimetype": "text/x-python",
   "name": "python",
   "nbconvert_exporter": "python",
   "pygments_lexer": "ipython3",
   "version": "3.9.1"
  }
 },
 "nbformat": 4,
 "nbformat_minor": 5
}
